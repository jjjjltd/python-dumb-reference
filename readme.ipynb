{
 "cells": [
  {
   "cell_type": "markdown",
   "metadata": {},
   "source": [
    "# Introduction\n",
    "---\n",
    "This started from a Folder on my PC where I had added a single .py file with some python code in it.  The kind of code I’m putting into this single file is the kind of dumb stuff I forget if I only look at Python once every 6 months, which is roughly what’s happening now.\n",
    "\n",
    "I then created a repository on Github.com, called “python-dumb-reference”:\n",
    "Figure 1:  Quick setup view from Github for newly created Repo(sitory).\n",
    " \n",
    "\n",
    "**From Command Line:**\n",
    "\n",
    "•\tgit init\n",
    "\n",
    "o\tSet current working directory as a git repository\n",
    "\n",
    "•\tgit commit -m \"first commit\"\n",
    "\n",
    "o\tDo a first commit of anything that’s in there\n",
    "\n",
    "git branch -M main\n",
    "git remote add origin https://github.com/jjjjltd/python-dumb-reference.git\n",
    "git push -u origin main\n",
    "\n"
   ]
  },
  {
   "cell_type": "markdown",
   "metadata": {},
   "source": []
  }
 ],
 "metadata": {
  "language_info": {
   "name": "python"
  },
  "orig_nbformat": 4
 },
 "nbformat": 4,
 "nbformat_minor": 2
}
