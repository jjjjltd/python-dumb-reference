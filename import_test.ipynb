{
 "cells": [
  {
   "cell_type": "code",
   "execution_count": 2,
   "metadata": {},
   "outputs": [],
   "source": [
    "from prettytable import PrettyTable\n",
    "\n"
   ]
  },
  {
   "cell_type": "code",
   "execution_count": 4,
   "metadata": {},
   "outputs": [
    {
     "name": "stdout",
     "output_type": "stream",
     "text": [
      "+------------+----------+---------------+\n",
      "| Pokemons   | type     | col3          |\n",
      "+------------+----------+---------------+\n",
      "| pikachu    | Water    | 1             |\n",
      "| pickanarse | Electric | 2             |\n",
      "| pickanose  | Fuck Off | {'key': 98.4} |\n",
      "+------------+----------+---------------+\n"
     ]
    }
   ],
   "source": [
    "table = PrettyTable()\n",
    "\n",
    "table.add_column(\"Pokemons\", [\"pikachu\", \"pickanarse\", \"pickanose\"])\n",
    "table.add_column(\"type\", [\"Water\", \"Electric\", \"Fuck Off\"])\n",
    "table.add_column(\"col3\", [1,2,{\"key\":98.4}])\n",
    "table.align=\"l\"\n",
    "\n",
    "print(table)"
   ]
  },
  {
   "cell_type": "code",
   "execution_count": 10,
   "metadata": {},
   "outputs": [
    {
     "name": "stdout",
     "output_type": "stream",
     "text": [
      "+------------+----------+---------------+\n",
      "| Pokemons   | type     | col3          |\n",
      "+------------+----------+---------------+\n",
      "| pikachu    | Water    | 1             |\n",
      "| pickanarse | Electric | 2             |\n",
      "| pickanose  | Fuck Off | {'key': 98.4} |\n",
      "+------------+----------+---------------+ \n",
      "\n",
      " +-------+-------+-------+---------+\n",
      "|  pet1 |  pet2 |  pet3 |   pet4  |\n",
      "+-------+-------+-------+---------+\n",
      "| Alaca | Roses | Maple | Eleanor |\n",
      "+-------+-------+-------+---------+\n"
     ]
    }
   ],
   "source": [
    "table2 = PrettyTable()\n",
    "\n",
    "table2.field_names = [\"pet1\",\"pet2\",\"pet3\",\"pet4\",]\n",
    "table2.add_row([\"Alaca\", \"Roses\", \"Maple\", \"Eleanor\"])\n",
    "\n",
    "print(table, \"\\n\\n\", table2)\n"
   ]
  }
 ],
 "metadata": {
  "kernelspec": {
   "display_name": "Python 3",
   "language": "python",
   "name": "python3"
  },
  "language_info": {
   "codemirror_mode": {
    "name": "ipython",
    "version": 3
   },
   "file_extension": ".py",
   "mimetype": "text/x-python",
   "name": "python",
   "nbconvert_exporter": "python",
   "pygments_lexer": "ipython3",
   "version": "3.10.4"
  },
  "orig_nbformat": 4
 },
 "nbformat": 4,
 "nbformat_minor": 2
}
