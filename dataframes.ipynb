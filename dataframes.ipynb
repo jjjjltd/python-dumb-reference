{
 "cells": [
  {
   "cell_type": "code",
   "execution_count": 1,
   "metadata": {},
   "outputs": [],
   "source": [
    "import pandas as pd"
   ]
  },
  {
   "cell_type": "code",
   "execution_count": 2,
   "metadata": {},
   "outputs": [],
   "source": [
    "df = pd.read_csv(\"./Data/simple_csv.csv\")"
   ]
  },
  {
   "cell_type": "markdown",
   "metadata": {},
   "source": [
    "Get list of columns, so that you can easily cut/paste/edit available columns..."
   ]
  },
  {
   "cell_type": "code",
   "execution_count": 3,
   "metadata": {},
   "outputs": [
    {
     "data": {
      "text/plain": [
       "Index(['col1', 'col2', 'col3', 'col4', 'col5', 'col6', 'col7', 'col8', 'col9',\n",
       "       'col10', 'col11', 'col12', 'col13', 'col14', 'col15'],\n",
       "      dtype='object')"
      ]
     },
     "execution_count": 3,
     "metadata": {},
     "output_type": "execute_result"
    }
   ],
   "source": [
    "df.columns"
   ]
  },
  {
   "cell_type": "code",
   "execution_count": 4,
   "metadata": {},
   "outputs": [
    {
     "data": {
      "text/html": [
       "<div>\n",
       "<style scoped>\n",
       "    .dataframe tbody tr th:only-of-type {\n",
       "        vertical-align: middle;\n",
       "    }\n",
       "\n",
       "    .dataframe tbody tr th {\n",
       "        vertical-align: top;\n",
       "    }\n",
       "\n",
       "    .dataframe thead th {\n",
       "        text-align: right;\n",
       "    }\n",
       "</style>\n",
       "<table border=\"1\" class=\"dataframe\">\n",
       "  <thead>\n",
       "    <tr style=\"text-align: right;\">\n",
       "      <th></th>\n",
       "      <th>col1</th>\n",
       "      <th>col2</th>\n",
       "      <th>col3</th>\n",
       "      <th>col4</th>\n",
       "      <th>col5</th>\n",
       "      <th>col10</th>\n",
       "    </tr>\n",
       "  </thead>\n",
       "  <tbody>\n",
       "    <tr>\n",
       "      <th>0</th>\n",
       "      <td>20/07/2023 08:29</td>\n",
       "      <td>A</td>\n",
       "      <td>1</td>\n",
       "      <td>123.450</td>\n",
       "      <td>123.5</td>\n",
       "      <td>0.281713</td>\n",
       "    </tr>\n",
       "    <tr>\n",
       "      <th>1</th>\n",
       "      <td>21/07/2023 08:29</td>\n",
       "      <td>B</td>\n",
       "      <td>2</td>\n",
       "      <td>123.451</td>\n",
       "      <td>123.5</td>\n",
       "      <td>0.980194</td>\n",
       "    </tr>\n",
       "    <tr>\n",
       "      <th>2</th>\n",
       "      <td>21/07/2023 08:29</td>\n",
       "      <td>A</td>\n",
       "      <td>3</td>\n",
       "      <td>123.452</td>\n",
       "      <td>123.5</td>\n",
       "      <td>0.203470</td>\n",
       "    </tr>\n",
       "    <tr>\n",
       "      <th>3</th>\n",
       "      <td>21/07/2023 08:29</td>\n",
       "      <td>B</td>\n",
       "      <td>4</td>\n",
       "      <td>123.453</td>\n",
       "      <td>123.5</td>\n",
       "      <td>0.016661</td>\n",
       "    </tr>\n",
       "    <tr>\n",
       "      <th>4</th>\n",
       "      <td>21/07/2023 08:29</td>\n",
       "      <td>A</td>\n",
       "      <td>5</td>\n",
       "      <td>123.454</td>\n",
       "      <td>123.5</td>\n",
       "      <td>0.249135</td>\n",
       "    </tr>\n",
       "  </tbody>\n",
       "</table>\n",
       "</div>"
      ],
      "text/plain": [
       "               col1 col2  col3     col4   col5     col10\n",
       "0  20/07/2023 08:29    A     1  123.450  123.5  0.281713\n",
       "1  21/07/2023 08:29    B     2  123.451  123.5  0.980194\n",
       "2  21/07/2023 08:29    A     3  123.452  123.5  0.203470\n",
       "3  21/07/2023 08:29    B     4  123.453  123.5  0.016661\n",
       "4  21/07/2023 08:29    A     5  123.454  123.5  0.249135"
      ]
     },
     "execution_count": 4,
     "metadata": {},
     "output_type": "execute_result"
    }
   ],
   "source": [
    "df2 = df[['col1', 'col2', 'col3', 'col4', 'col5', 'col10']]\n",
    "df2.head()"
   ]
  },
  {
   "cell_type": "code",
   "execution_count": 5,
   "metadata": {},
   "outputs": [
    {
     "name": "stdout",
     "output_type": "stream",
     "text": [
      "<class 'pandas.core.frame.DataFrame'>\n",
      "RangeIndex: 25 entries, 0 to 24\n",
      "Data columns (total 15 columns):\n",
      " #   Column  Non-Null Count  Dtype  \n",
      "---  ------  --------------  -----  \n",
      " 0   col1    25 non-null     object \n",
      " 1   col2    25 non-null     object \n",
      " 2   col3    25 non-null     int64  \n",
      " 3   col4    25 non-null     float64\n",
      " 4   col5    25 non-null     float64\n",
      " 5   col6    25 non-null     object \n",
      " 6   col7    25 non-null     object \n",
      " 7   col8    25 non-null     int64  \n",
      " 8   col9    25 non-null     int64  \n",
      " 9   col10   25 non-null     float64\n",
      " 10  col11   25 non-null     object \n",
      " 11  col12   25 non-null     object \n",
      " 12  col13   25 non-null     int64  \n",
      " 13  col14   25 non-null     int64  \n",
      " 14  col15   25 non-null     int64  \n",
      "dtypes: float64(3), int64(6), object(6)\n",
      "memory usage: 3.1+ KB\n"
     ]
    }
   ],
   "source": [
    "df.info()"
   ]
  },
  {
   "cell_type": "code",
   "execution_count": 6,
   "metadata": {},
   "outputs": [
    {
     "data": {
      "text/html": [
       "<div>\n",
       "<style scoped>\n",
       "    .dataframe tbody tr th:only-of-type {\n",
       "        vertical-align: middle;\n",
       "    }\n",
       "\n",
       "    .dataframe tbody tr th {\n",
       "        vertical-align: top;\n",
       "    }\n",
       "\n",
       "    .dataframe thead th {\n",
       "        text-align: right;\n",
       "    }\n",
       "</style>\n",
       "<table border=\"1\" class=\"dataframe\">\n",
       "  <thead>\n",
       "    <tr style=\"text-align: right;\">\n",
       "      <th></th>\n",
       "      <th>col3</th>\n",
       "      <th>col4</th>\n",
       "      <th>col5</th>\n",
       "      <th>col8</th>\n",
       "      <th>col9</th>\n",
       "      <th>col10</th>\n",
       "      <th>col13</th>\n",
       "      <th>col14</th>\n",
       "      <th>col15</th>\n",
       "    </tr>\n",
       "  </thead>\n",
       "  <tbody>\n",
       "    <tr>\n",
       "      <th>count</th>\n",
       "      <td>25.000000</td>\n",
       "      <td>25.00000</td>\n",
       "      <td>25.0</td>\n",
       "      <td>25.000000</td>\n",
       "      <td>25.000000</td>\n",
       "      <td>25.000000</td>\n",
       "      <td>25.0</td>\n",
       "      <td>25.0</td>\n",
       "      <td>25.0</td>\n",
       "    </tr>\n",
       "    <tr>\n",
       "      <th>mean</th>\n",
       "      <td>13.000000</td>\n",
       "      <td>123.46200</td>\n",
       "      <td>123.5</td>\n",
       "      <td>569478.400000</td>\n",
       "      <td>556.680000</td>\n",
       "      <td>0.474761</td>\n",
       "      <td>8.0</td>\n",
       "      <td>29.0</td>\n",
       "      <td>36.0</td>\n",
       "    </tr>\n",
       "    <tr>\n",
       "      <th>std</th>\n",
       "      <td>7.359801</td>\n",
       "      <td>0.00736</td>\n",
       "      <td>0.0</td>\n",
       "      <td>314634.760053</td>\n",
       "      <td>304.660565</td>\n",
       "      <td>0.341960</td>\n",
       "      <td>0.0</td>\n",
       "      <td>0.0</td>\n",
       "      <td>0.0</td>\n",
       "    </tr>\n",
       "    <tr>\n",
       "      <th>min</th>\n",
       "      <td>1.000000</td>\n",
       "      <td>123.45000</td>\n",
       "      <td>123.5</td>\n",
       "      <td>10283.000000</td>\n",
       "      <td>18.000000</td>\n",
       "      <td>0.016661</td>\n",
       "      <td>8.0</td>\n",
       "      <td>29.0</td>\n",
       "      <td>36.0</td>\n",
       "    </tr>\n",
       "    <tr>\n",
       "      <th>25%</th>\n",
       "      <td>7.000000</td>\n",
       "      <td>123.45600</td>\n",
       "      <td>123.5</td>\n",
       "      <td>418267.000000</td>\n",
       "      <td>290.000000</td>\n",
       "      <td>0.203470</td>\n",
       "      <td>8.0</td>\n",
       "      <td>29.0</td>\n",
       "      <td>36.0</td>\n",
       "    </tr>\n",
       "    <tr>\n",
       "      <th>50%</th>\n",
       "      <td>13.000000</td>\n",
       "      <td>123.46200</td>\n",
       "      <td>123.5</td>\n",
       "      <td>622229.000000</td>\n",
       "      <td>588.000000</td>\n",
       "      <td>0.340755</td>\n",
       "      <td>8.0</td>\n",
       "      <td>29.0</td>\n",
       "      <td>36.0</td>\n",
       "    </tr>\n",
       "    <tr>\n",
       "      <th>75%</th>\n",
       "      <td>19.000000</td>\n",
       "      <td>123.46800</td>\n",
       "      <td>123.5</td>\n",
       "      <td>823321.000000</td>\n",
       "      <td>808.000000</td>\n",
       "      <td>0.784370</td>\n",
       "      <td>8.0</td>\n",
       "      <td>29.0</td>\n",
       "      <td>36.0</td>\n",
       "    </tr>\n",
       "    <tr>\n",
       "      <th>max</th>\n",
       "      <td>25.000000</td>\n",
       "      <td>123.47400</td>\n",
       "      <td>123.5</td>\n",
       "      <td>975661.000000</td>\n",
       "      <td>984.000000</td>\n",
       "      <td>0.980194</td>\n",
       "      <td>8.0</td>\n",
       "      <td>29.0</td>\n",
       "      <td>36.0</td>\n",
       "    </tr>\n",
       "  </tbody>\n",
       "</table>\n",
       "</div>"
      ],
      "text/plain": [
       "            col3       col4   col5           col8        col9      col10  \\\n",
       "count  25.000000   25.00000   25.0      25.000000   25.000000  25.000000   \n",
       "mean   13.000000  123.46200  123.5  569478.400000  556.680000   0.474761   \n",
       "std     7.359801    0.00736    0.0  314634.760053  304.660565   0.341960   \n",
       "min     1.000000  123.45000  123.5   10283.000000   18.000000   0.016661   \n",
       "25%     7.000000  123.45600  123.5  418267.000000  290.000000   0.203470   \n",
       "50%    13.000000  123.46200  123.5  622229.000000  588.000000   0.340755   \n",
       "75%    19.000000  123.46800  123.5  823321.000000  808.000000   0.784370   \n",
       "max    25.000000  123.47400  123.5  975661.000000  984.000000   0.980194   \n",
       "\n",
       "       col13  col14  col15  \n",
       "count   25.0   25.0   25.0  \n",
       "mean     8.0   29.0   36.0  \n",
       "std      0.0    0.0    0.0  \n",
       "min      8.0   29.0   36.0  \n",
       "25%      8.0   29.0   36.0  \n",
       "50%      8.0   29.0   36.0  \n",
       "75%      8.0   29.0   36.0  \n",
       "max      8.0   29.0   36.0  "
      ]
     },
     "execution_count": 6,
     "metadata": {},
     "output_type": "execute_result"
    }
   ],
   "source": [
    "df.describe()"
   ]
  },
  {
   "cell_type": "markdown",
   "metadata": {},
   "source": [
    "Change column type so you can use it e.g. Object --> Datetime"
   ]
  },
  {
   "cell_type": "code",
   "execution_count": 7,
   "metadata": {},
   "outputs": [
    {
     "data": {
      "text/html": [
       "<div>\n",
       "<style scoped>\n",
       "    .dataframe tbody tr th:only-of-type {\n",
       "        vertical-align: middle;\n",
       "    }\n",
       "\n",
       "    .dataframe tbody tr th {\n",
       "        vertical-align: top;\n",
       "    }\n",
       "\n",
       "    .dataframe thead th {\n",
       "        text-align: right;\n",
       "    }\n",
       "</style>\n",
       "<table border=\"1\" class=\"dataframe\">\n",
       "  <thead>\n",
       "    <tr style=\"text-align: right;\">\n",
       "      <th></th>\n",
       "      <th>datetime</th>\n",
       "      <th>col1</th>\n",
       "      <th>col2</th>\n",
       "      <th>col3</th>\n",
       "      <th>col4</th>\n",
       "      <th>col5</th>\n",
       "      <th>col10</th>\n",
       "    </tr>\n",
       "  </thead>\n",
       "  <tbody>\n",
       "    <tr>\n",
       "      <th>0</th>\n",
       "      <td>2023-07-20 08:29:00</td>\n",
       "      <td>20/07/2023 08:29</td>\n",
       "      <td>A</td>\n",
       "      <td>1</td>\n",
       "      <td>123.450</td>\n",
       "      <td>123.5</td>\n",
       "      <td>0.281713</td>\n",
       "    </tr>\n",
       "    <tr>\n",
       "      <th>1</th>\n",
       "      <td>2023-07-21 08:29:00</td>\n",
       "      <td>21/07/2023 08:29</td>\n",
       "      <td>B</td>\n",
       "      <td>2</td>\n",
       "      <td>123.451</td>\n",
       "      <td>123.5</td>\n",
       "      <td>0.980194</td>\n",
       "    </tr>\n",
       "    <tr>\n",
       "      <th>2</th>\n",
       "      <td>2023-07-21 08:29:00</td>\n",
       "      <td>21/07/2023 08:29</td>\n",
       "      <td>A</td>\n",
       "      <td>3</td>\n",
       "      <td>123.452</td>\n",
       "      <td>123.5</td>\n",
       "      <td>0.203470</td>\n",
       "    </tr>\n",
       "    <tr>\n",
       "      <th>3</th>\n",
       "      <td>2023-07-21 08:29:00</td>\n",
       "      <td>21/07/2023 08:29</td>\n",
       "      <td>B</td>\n",
       "      <td>4</td>\n",
       "      <td>123.453</td>\n",
       "      <td>123.5</td>\n",
       "      <td>0.016661</td>\n",
       "    </tr>\n",
       "    <tr>\n",
       "      <th>4</th>\n",
       "      <td>2023-07-21 08:29:00</td>\n",
       "      <td>21/07/2023 08:29</td>\n",
       "      <td>A</td>\n",
       "      <td>5</td>\n",
       "      <td>123.454</td>\n",
       "      <td>123.5</td>\n",
       "      <td>0.249135</td>\n",
       "    </tr>\n",
       "  </tbody>\n",
       "</table>\n",
       "</div>"
      ],
      "text/plain": [
       "             datetime              col1 col2  col3     col4   col5     col10\n",
       "0 2023-07-20 08:29:00  20/07/2023 08:29    A     1  123.450  123.5  0.281713\n",
       "1 2023-07-21 08:29:00  21/07/2023 08:29    B     2  123.451  123.5  0.980194\n",
       "2 2023-07-21 08:29:00  21/07/2023 08:29    A     3  123.452  123.5  0.203470\n",
       "3 2023-07-21 08:29:00  21/07/2023 08:29    B     4  123.453  123.5  0.016661\n",
       "4 2023-07-21 08:29:00  21/07/2023 08:29    A     5  123.454  123.5  0.249135"
      ]
     },
     "execution_count": 7,
     "metadata": {},
     "output_type": "execute_result"
    }
   ],
   "source": [
    "df[\"datetime\"] = pd.to_datetime(df[\"col1\"])\n",
    "df = df[['datetime', 'col1', 'col2', 'col3', 'col4', 'col5', 'col10']]\n",
    "\n",
    "df.head()"
   ]
  },
  {
   "cell_type": "markdown",
   "metadata": {},
   "source": [
    "Drop (delete) column, and use of 'inplace'."
   ]
  },
  {
   "cell_type": "code",
   "execution_count": 8,
   "metadata": {},
   "outputs": [
    {
     "data": {
      "text/html": [
       "<div>\n",
       "<style scoped>\n",
       "    .dataframe tbody tr th:only-of-type {\n",
       "        vertical-align: middle;\n",
       "    }\n",
       "\n",
       "    .dataframe tbody tr th {\n",
       "        vertical-align: top;\n",
       "    }\n",
       "\n",
       "    .dataframe thead th {\n",
       "        text-align: right;\n",
       "    }\n",
       "</style>\n",
       "<table border=\"1\" class=\"dataframe\">\n",
       "  <thead>\n",
       "    <tr style=\"text-align: right;\">\n",
       "      <th></th>\n",
       "      <th>datetime</th>\n",
       "      <th>col2</th>\n",
       "      <th>col3</th>\n",
       "      <th>col4</th>\n",
       "      <th>col5</th>\n",
       "      <th>col10</th>\n",
       "    </tr>\n",
       "  </thead>\n",
       "  <tbody>\n",
       "    <tr>\n",
       "      <th>0</th>\n",
       "      <td>2023-07-20 08:29:00</td>\n",
       "      <td>A</td>\n",
       "      <td>1</td>\n",
       "      <td>123.450</td>\n",
       "      <td>123.5</td>\n",
       "      <td>0.281713</td>\n",
       "    </tr>\n",
       "    <tr>\n",
       "      <th>1</th>\n",
       "      <td>2023-07-21 08:29:00</td>\n",
       "      <td>B</td>\n",
       "      <td>2</td>\n",
       "      <td>123.451</td>\n",
       "      <td>123.5</td>\n",
       "      <td>0.980194</td>\n",
       "    </tr>\n",
       "    <tr>\n",
       "      <th>2</th>\n",
       "      <td>2023-07-21 08:29:00</td>\n",
       "      <td>A</td>\n",
       "      <td>3</td>\n",
       "      <td>123.452</td>\n",
       "      <td>123.5</td>\n",
       "      <td>0.203470</td>\n",
       "    </tr>\n",
       "    <tr>\n",
       "      <th>3</th>\n",
       "      <td>2023-07-21 08:29:00</td>\n",
       "      <td>B</td>\n",
       "      <td>4</td>\n",
       "      <td>123.453</td>\n",
       "      <td>123.5</td>\n",
       "      <td>0.016661</td>\n",
       "    </tr>\n",
       "    <tr>\n",
       "      <th>4</th>\n",
       "      <td>2023-07-21 08:29:00</td>\n",
       "      <td>A</td>\n",
       "      <td>5</td>\n",
       "      <td>123.454</td>\n",
       "      <td>123.5</td>\n",
       "      <td>0.249135</td>\n",
       "    </tr>\n",
       "  </tbody>\n",
       "</table>\n",
       "</div>"
      ],
      "text/plain": [
       "             datetime col2  col3     col4   col5     col10\n",
       "0 2023-07-20 08:29:00    A     1  123.450  123.5  0.281713\n",
       "1 2023-07-21 08:29:00    B     2  123.451  123.5  0.980194\n",
       "2 2023-07-21 08:29:00    A     3  123.452  123.5  0.203470\n",
       "3 2023-07-21 08:29:00    B     4  123.453  123.5  0.016661\n",
       "4 2023-07-21 08:29:00    A     5  123.454  123.5  0.249135"
      ]
     },
     "execution_count": 8,
     "metadata": {},
     "output_type": "execute_result"
    }
   ],
   "source": [
    "df.drop(\"col1\", axis=1, inplace=True)\n",
    "df.head()"
   ]
  },
  {
   "cell_type": "markdown",
   "metadata": {},
   "source": [
    "Sort, check unique and group by..."
   ]
  },
  {
   "cell_type": "code",
   "execution_count": 9,
   "metadata": {},
   "outputs": [
    {
     "data": {
      "text/html": [
       "<div>\n",
       "<style scoped>\n",
       "    .dataframe tbody tr th:only-of-type {\n",
       "        vertical-align: middle;\n",
       "    }\n",
       "\n",
       "    .dataframe tbody tr th {\n",
       "        vertical-align: top;\n",
       "    }\n",
       "\n",
       "    .dataframe thead th {\n",
       "        text-align: right;\n",
       "    }\n",
       "</style>\n",
       "<table border=\"1\" class=\"dataframe\">\n",
       "  <thead>\n",
       "    <tr style=\"text-align: right;\">\n",
       "      <th></th>\n",
       "      <th>datetime</th>\n",
       "      <th>col2</th>\n",
       "      <th>col3</th>\n",
       "      <th>col4</th>\n",
       "      <th>col5</th>\n",
       "      <th>col10</th>\n",
       "    </tr>\n",
       "  </thead>\n",
       "  <tbody>\n",
       "    <tr>\n",
       "      <th>24</th>\n",
       "      <td>2023-07-21 08:29:00</td>\n",
       "      <td>A</td>\n",
       "      <td>25</td>\n",
       "      <td>123.474</td>\n",
       "      <td>123.5</td>\n",
       "      <td>0.340755</td>\n",
       "    </tr>\n",
       "    <tr>\n",
       "      <th>23</th>\n",
       "      <td>2023-07-21 08:29:00</td>\n",
       "      <td>B</td>\n",
       "      <td>24</td>\n",
       "      <td>123.473</td>\n",
       "      <td>123.5</td>\n",
       "      <td>0.969033</td>\n",
       "    </tr>\n",
       "    <tr>\n",
       "      <th>22</th>\n",
       "      <td>2023-07-21 08:29:00</td>\n",
       "      <td>A</td>\n",
       "      <td>23</td>\n",
       "      <td>123.472</td>\n",
       "      <td>123.5</td>\n",
       "      <td>0.020075</td>\n",
       "    </tr>\n",
       "    <tr>\n",
       "      <th>21</th>\n",
       "      <td>2023-07-21 08:29:00</td>\n",
       "      <td>B</td>\n",
       "      <td>22</td>\n",
       "      <td>123.471</td>\n",
       "      <td>123.5</td>\n",
       "      <td>0.144076</td>\n",
       "    </tr>\n",
       "    <tr>\n",
       "      <th>20</th>\n",
       "      <td>2023-07-21 08:29:00</td>\n",
       "      <td>A</td>\n",
       "      <td>21</td>\n",
       "      <td>123.470</td>\n",
       "      <td>123.5</td>\n",
       "      <td>0.253127</td>\n",
       "    </tr>\n",
       "  </tbody>\n",
       "</table>\n",
       "</div>"
      ],
      "text/plain": [
       "              datetime col2  col3     col4   col5     col10\n",
       "24 2023-07-21 08:29:00    A    25  123.474  123.5  0.340755\n",
       "23 2023-07-21 08:29:00    B    24  123.473  123.5  0.969033\n",
       "22 2023-07-21 08:29:00    A    23  123.472  123.5  0.020075\n",
       "21 2023-07-21 08:29:00    B    22  123.471  123.5  0.144076\n",
       "20 2023-07-21 08:29:00    A    21  123.470  123.5  0.253127"
      ]
     },
     "execution_count": 9,
     "metadata": {},
     "output_type": "execute_result"
    }
   ],
   "source": [
    "df.sort_values(by=\"col4\", ascending=False, inplace=True)\n",
    "df.head()"
   ]
  },
  {
   "cell_type": "code",
   "execution_count": 10,
   "metadata": {},
   "outputs": [
    {
     "data": {
      "text/plain": [
       "array(['A', 'B'], dtype=object)"
      ]
     },
     "execution_count": 10,
     "metadata": {},
     "output_type": "execute_result"
    }
   ],
   "source": [
    "df.col2.unique()"
   ]
  },
  {
   "cell_type": "code",
   "execution_count": 11,
   "metadata": {},
   "outputs": [
    {
     "data": {
      "text/html": [
       "<div>\n",
       "<style scoped>\n",
       "    .dataframe tbody tr th:only-of-type {\n",
       "        vertical-align: middle;\n",
       "    }\n",
       "\n",
       "    .dataframe tbody tr th {\n",
       "        vertical-align: top;\n",
       "    }\n",
       "\n",
       "    .dataframe thead th {\n",
       "        text-align: right;\n",
       "    }\n",
       "</style>\n",
       "<table border=\"1\" class=\"dataframe\">\n",
       "  <thead>\n",
       "    <tr style=\"text-align: right;\">\n",
       "      <th></th>\n",
       "      <th>col2</th>\n",
       "      <th>col3</th>\n",
       "      <th>col4</th>\n",
       "      <th>col5</th>\n",
       "      <th>col10</th>\n",
       "    </tr>\n",
       "  </thead>\n",
       "  <tbody>\n",
       "    <tr>\n",
       "      <th>0</th>\n",
       "      <td>A</td>\n",
       "      <td>169</td>\n",
       "      <td>1605.006</td>\n",
       "      <td>1605.5</td>\n",
       "      <td>5.465350</td>\n",
       "    </tr>\n",
       "    <tr>\n",
       "      <th>1</th>\n",
       "      <td>B</td>\n",
       "      <td>156</td>\n",
       "      <td>1481.544</td>\n",
       "      <td>1482.0</td>\n",
       "      <td>6.403669</td>\n",
       "    </tr>\n",
       "  </tbody>\n",
       "</table>\n",
       "</div>"
      ],
      "text/plain": [
       "  col2  col3      col4    col5     col10\n",
       "0    A   169  1605.006  1605.5  5.465350\n",
       "1    B   156  1481.544  1482.0  6.403669"
      ]
     },
     "execution_count": 11,
     "metadata": {},
     "output_type": "execute_result"
    }
   ],
   "source": [
    "df = df.groupby(by=[\"col2\"], as_index=False).sum()\n",
    "df"
   ]
  },
  {
   "cell_type": "code",
   "execution_count": null,
   "metadata": {},
   "outputs": [],
   "source": []
  },
  {
   "cell_type": "markdown",
   "metadata": {},
   "source": [
    "Filter by column value"
   ]
  },
  {
   "cell_type": "code",
   "execution_count": 12,
   "metadata": {},
   "outputs": [
    {
     "data": {
      "text/html": [
       "<div>\n",
       "<style scoped>\n",
       "    .dataframe tbody tr th:only-of-type {\n",
       "        vertical-align: middle;\n",
       "    }\n",
       "\n",
       "    .dataframe tbody tr th {\n",
       "        vertical-align: top;\n",
       "    }\n",
       "\n",
       "    .dataframe thead th {\n",
       "        text-align: right;\n",
       "    }\n",
       "</style>\n",
       "<table border=\"1\" class=\"dataframe\">\n",
       "  <thead>\n",
       "    <tr style=\"text-align: right;\">\n",
       "      <th></th>\n",
       "      <th>col2</th>\n",
       "      <th>col3</th>\n",
       "      <th>col4</th>\n",
       "      <th>col5</th>\n",
       "      <th>col10</th>\n",
       "    </tr>\n",
       "  </thead>\n",
       "  <tbody>\n",
       "    <tr>\n",
       "      <th>0</th>\n",
       "      <td>A</td>\n",
       "      <td>169</td>\n",
       "      <td>1605.006</td>\n",
       "      <td>1605.5</td>\n",
       "      <td>5.46535</td>\n",
       "    </tr>\n",
       "  </tbody>\n",
       "</table>\n",
       "</div>"
      ],
      "text/plain": [
       "  col2  col3      col4    col5    col10\n",
       "0    A   169  1605.006  1605.5  5.46535"
      ]
     },
     "execution_count": 12,
     "metadata": {},
     "output_type": "execute_result"
    }
   ],
   "source": [
    "df=df[df.col2==\"A\"]\n",
    "df.head()"
   ]
  },
  {
   "cell_type": "code",
   "execution_count": 13,
   "metadata": {},
   "outputs": [],
   "source": [
    "df.to_csv(\"./Data/Dumb DF Output.csv\")"
   ]
  },
  {
   "cell_type": "code",
   "execution_count": 15,
   "metadata": {},
   "outputs": [
    {
     "name": "stdout",
     "output_type": "stream",
     "text": [
      "For col2 value(s) = {0: 'A'}\n",
      "For col3 value(s) = {0: 169}\n",
      "For col4 value(s) = {0: 1605.006}\n",
      "For col5 value(s) = {0: 1605.5}\n",
      "For col10 value(s) = {0: 5.465350108}\n"
     ]
    }
   ],
   "source": [
    "df2dict = df.to_dict('dict')\n",
    "for k, v in df2dict.items():\n",
    "    print(f\"For {k} value(s) = {v}\")"
   ]
  },
  {
   "cell_type": "code",
   "execution_count": 24,
   "metadata": {},
   "outputs": [
    {
     "name": "stdout",
     "output_type": "stream",
     "text": [
      "0    A\n",
      "Name: col2, dtype: object 0    169\n",
      "Name: col3, dtype: int64\n"
     ]
    }
   ],
   "source": [
    "for keys, values in df.iterrows():\n",
    "    print(df[\"col2\"], df[\"col3\"])"
   ]
  }
 ],
 "metadata": {
  "kernelspec": {
   "display_name": "Python 3",
   "language": "python",
   "name": "python3"
  },
  "language_info": {
   "codemirror_mode": {
    "name": "ipython",
    "version": 3
   },
   "file_extension": ".py",
   "mimetype": "text/x-python",
   "name": "python",
   "nbconvert_exporter": "python",
   "pygments_lexer": "ipython3",
   "version": "3.10.4"
  },
  "orig_nbformat": 4
 },
 "nbformat": 4,
 "nbformat_minor": 2
}
