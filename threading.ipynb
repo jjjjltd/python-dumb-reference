{
 "cells": [
  {
   "cell_type": "code",
   "execution_count": 37,
   "metadata": {},
   "outputs": [],
   "source": [
    "import threading\n",
    "import time\n",
    "\n",
    "def method_to_thread(number):\n",
    "    print(\"This is threaded.\", str(number))"
   ]
  },
  {
   "cell_type": "code",
   "execution_count": 38,
   "metadata": {},
   "outputs": [
    {
     "name": "stdout",
     "output_type": "stream",
     "text": [
      "This is threaded. 0\n",
      "This is threaded. 1\n",
      "This is threaded. 2\n",
      "This is threaded. 3\n"
     ]
    }
   ],
   "source": [
    "thread_list = []\n",
    "for i in range(4):\n",
    "    thread = threading.Thread(target=method_to_thread, args=(i,))\n",
    "    thread_list.append(thread)\n",
    "    thread.start()\n"
   ]
  },
  {
   "cell_type": "code",
   "execution_count": 39,
   "metadata": {},
   "outputs": [],
   "source": [
    "from collections.abc import Callable, Iterable, Mapping\n",
    "from typing import Any\n",
    "\n",
    "\n",
    "class MyThread(threading.Thread):\n",
    "    def __init__(self, number):\n",
    "        super(MyThread, self).__init__()\n",
    "        self.number = number\n",
    "    def run(self):\n",
    "        time.sleep(0.1)\n",
    "        print(\"This is threaded.\", str(self.number))"
   ]
  },
  {
   "cell_type": "code",
   "execution_count": 40,
   "metadata": {},
   "outputs": [],
   "source": [
    "thread_list = []\n",
    "for i in range(4):\n",
    "    thread = MyThread(i)\n",
    "    thread_list.append(thread)\n",
    "    thread.start()"
   ]
  },
  {
   "cell_type": "code",
   "execution_count": 41,
   "metadata": {},
   "outputs": [
    {
     "name": "stdout",
     "output_type": "stream",
     "text": [
      "This is threaded.This is threaded. 1\n",
      "This is threaded. 2\n",
      "This is threaded. 3\n",
      " 0\n",
      "Executed after all threads completed\n"
     ]
    }
   ],
   "source": [
    "for thread in thread_list:\n",
    "    thread.join()\n",
    "\n",
    "print(\"Executed after all threads completed\")"
   ]
  },
  {
   "cell_type": "code",
   "execution_count": 42,
   "metadata": {},
   "outputs": [
    {
     "name": "stdout",
     "output_type": "stream",
     "text": [
      "<bound method Thread.getName of <_MainThread(MainThread, started 4360)>>\n",
      "<bound method Thread.getName of <Thread(IOPub, started daemon 15736)>>\n",
      "<bound method Thread.getName of <Heartbeat(Heartbeat, started daemon 15720)>>\n",
      "<bound method Thread.getName of <ControlThread(Control, started daemon 15984)>>\n",
      "<bound method Thread.getName of <HistorySavingThread(IPythonHistorySavingThread, started 5584)>>\n",
      "<bound method Thread.getName of <ParentPollerWindows(Thread-4, started daemon 10856)>>\n",
      "0\n",
      "1\n",
      "2\n",
      "3\n"
     ]
    },
    {
     "name": "stdout",
     "output_type": "stream",
     "text": [
      "This is threaded.This is threaded. 1\n",
      "This is threaded. 2\n",
      " 0\n",
      "This is threaded. 3\n"
     ]
    }
   ],
   "source": [
    "thread_list = []\n",
    "for i in range(4):\n",
    "    thread = MyThread(i)\n",
    "    thread_list.append(thread)\n",
    "    thread.start()\n",
    "\n",
    "for thread in threading.enumerate():\n",
    "    try:\n",
    "        print(thread.number)\n",
    "    except: \n",
    "        print(thread.getName)"
   ]
  }
 ],
 "metadata": {
  "kernelspec": {
   "display_name": "Python 3",
   "language": "python",
   "name": "python3"
  },
  "language_info": {
   "codemirror_mode": {
    "name": "ipython",
    "version": 3
   },
   "file_extension": ".py",
   "mimetype": "text/x-python",
   "name": "python",
   "nbconvert_exporter": "python",
   "pygments_lexer": "ipython3",
   "version": "3.10.4"
  },
  "orig_nbformat": 4
 },
 "nbformat": 4,
 "nbformat_minor": 2
}
